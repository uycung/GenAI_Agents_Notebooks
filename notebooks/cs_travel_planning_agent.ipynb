{
 "cells": [
  {
   "cell_type": "markdown",
   "metadata": {},
   "source": [
    "# Crafting an Intelligent Travel Planning Agent\n",
    "\n",
    "## Introduction\n",
    "\n",
    "> This notebook demonstrates a **travel planning agent**, powered by the versatile capabilities of LangChain and LangGraph.\n",
    "\n",
    "**Problem: The Complexity of Traditional Travel Planning**\n",
    "\n",
    "*   **Fragmented Planning:** Travelers must check multiple sources for travel details, making planning inefficient and time-consuming.\n",
    "*   **Generic Solutions:** Standard planning lacks personalization for individual needs and preferences.\n",
    "\n",
    "**Solution: AI-Powered Personalized Travel Planning**\n",
    "\n",
    "This project builds the foundation for an AI-driven travel planning agent leveraging LangChain's tool integration and LangGraph's ability to orchestrate multi-step workflows, enabling:\n",
    "\n",
    "*   **Intelligent Information Retrieval:** By utilizing tools like search engines and weather APIs, the agent can intelligently gather relevant and up-to-date travel information.\n",
    "*   **Personalized Recommendation Generation:** The system aims to understand user preferences and constraints to provide tailored suggestions for flights, accommodations, and activities.\n",
    "\n",
    "**Project Focus & Limitations**\n",
    "\n",
    "This demonstration will showcase:\n",
    "\n",
    "*   A travel planner using LangChain tools and custom tools.\n",
    "*   LangGraph's intelligent tool coordination.\n",
    "*   Short-term memory for context maintenance.\n",
    "\n",
    "This demonstration will **not** cover:\n",
    "*   Real-time booking integrations.\n",
    "*   Complex travel scenarios (e.g., multi-city international trips with specific visa requirements).\n",
    "*   Extensive LLM and tools evaluations.\n"
   ]
  },
  {
   "cell_type": "markdown",
   "metadata": {},
   "source": [
    "## Agent Workflow\n",
    "The agent follows this workflow:\n",
    "\n",
    "1. Extract trip parameters (destination, dates, preferences, budget) from user input\n",
    "2. Use TavilySearchResults to find flight options\n",
    "3. Use TavilySearchResults to find hotels matching preferences\n",
    "4. Use OpenWeatherMapAPIWrapper to get destination weather\n",
    "5. Use TavilySearchResults to find relevant activities\n",
    "6. Use custom itinerary_builder to assemble all information\n",
    "7. Maintain context to improve subsequent searches and recommendations\n",
    "\n",
    "Key components:\n",
    "* **LLM:** Gemini 2.0 Flash\n",
    "* **Tools:** TavilySearchResults, OpenWeatherMapAPIWrapper, custom tools\n",
    "* **LangChain, LangGraph Framework:** Core frameworks for building the conversational agent\n",
    "* **Prompt Engineering:** Structured prompts to guide the agent's responses"
   ]
  },
  {
   "cell_type": "markdown",
   "metadata": {},
   "source": [
    "## Implementation Steps\n",
    "### Setting Up the Environment"
   ]
  },
  {
   "cell_type": "code",
   "execution_count": null,
   "metadata": {},
   "outputs": [],
   "source": [
    "# Load the environment variables\n",
    "import os\n",
    "from dotenv import load_dotenv\n",
    "\n",
    "_ = load_dotenv()"
   ]
  },
  {
   "cell_type": "code",
   "execution_count": null,
   "metadata": {},
   "outputs": [],
   "source": [
    "# Set up the LLM\n",
    "from langchain_google_genai import ChatGoogleGenerativeAI\n",
    "\n",
    "GEMINI_API_KEY = os.environ.get(\"GEMINI_API_KEY\")\n",
    "llm = ChatGoogleGenerativeAI(model=\"gemini-2.0-flash\", api_key=GEMINI_API_KEY)"
   ]
  },
  {
   "cell_type": "markdown",
   "metadata": {},
   "source": [
    "### Configuring the Tools\n",
    "Next, we'll set up each tool our agent will use:"
   ]
  },
  {
   "cell_type": "code",
   "execution_count": null,
   "metadata": {},
   "outputs": [],
   "source": [
    "# Configure Tavily Search API for travel information\n",
    "from langchain_community.tools.tavily_search import TavilySearchResults\n",
    "\n",
    "TAVILY_API_KEY = os.environ.get(\"TAVILY_API_KEY\")\n",
    "search_tool = TavilySearchResults(api_key=TAVILY_API_KEY, max_results=5)"
   ]
  },
  {
   "cell_type": "code",
   "execution_count": null,
   "metadata": {},
   "outputs": [],
   "source": [
    "# Configure OpenWeatherMap API for destination weather\n",
    "from langchain_community.utilities import OpenWeatherMapAPIWrapper\n",
    "\n",
    "OPENWEATHERMAP_API_KEY = os.environ.get(\"OPENWEATHERMAP_API_KEY\")\n",
    "weather = OpenWeatherMapAPIWrapper(openweathermap_api_key=OPENWEATHERMAP_API_KEY)"
   ]
  },
  {
   "cell_type": "code",
   "execution_count": null,
   "metadata": {},
   "outputs": [],
   "source": [
    "from langchain.tools import tool\n",
    "\n",
    "@tool\n",
    "def get_weather(location: str) -> str:\n",
    "    \"\"\"Get the current weather in a given location\"\"\"\n",
    "    return weather.run(location)"
   ]
  },
  {
   "cell_type": "code",
   "execution_count": null,
   "metadata": {},
   "outputs": [],
   "source": [
    "# Custom tool for building travel itineraries\n",
    "def itinerary_builder(destination: str, start_date: str, end_date: str, \n",
    "                      flights: str, accommodations: str, activities: str, \n",
    "                      weather_info: str, budget_constraints: str = None) -> str:\n",
    "    \"\"\"\n",
    "    Builds a comprehensive travel itinerary based on provided information.\n",
    "    \n",
    "    Args:\n",
    "        destination: The travel destination\n",
    "        start_date: Trip start date (YYYY-MM-DD)\n",
    "        end_date: Trip end date (YYYY-MM-DD)\n",
    "        flights: Flight information\n",
    "        accommodations: Hotel/lodging information\n",
    "        activities: List of activities/attractions\n",
    "        weather_info: Weather forecast for the destination\n",
    "        budget_constraints: Optional budget limitations\n",
    "        \n",
    "    Returns:\n",
    "        A formatted travel itinerary\n",
    "    \"\"\"\n",
    "    # Assemble the itinerary in a structured format\n",
    "    itinerary = f\"\"\"\n",
    "    # TRAVEL ITINERARY: {destination}\n",
    "    \n",
    "    **Dates:** {start_date} to {end_date}\n",
    "    \n",
    "    ## Travel Details\n",
    "    {flights}\n",
    "    \n",
    "    ## Accommodations\n",
    "    {accommodations}\n",
    "    \n",
    "    ## Weather Forecast\n",
    "    {weather_info}\n",
    "    \n",
    "    ## Recommended Activities\n",
    "    {activities}\n",
    "    \"\"\"\n",
    "    \n",
    "    if budget_constraints:\n",
    "        itinerary += f\"\\n## Budget Considerations\\n{budget_constraints}\"\n",
    "        \n",
    "    return itinerary"
   ]
  },
  {
   "cell_type": "markdown",
   "metadata": {},
   "source": [
    "### Configuring the Agent\n",
    "Now we'll set up the agent:\n",
    "* Binding the necessary tools\n",
    "* Defining the criteria for stopping\n",
    "* Crafting the system prompt\n",
    "* Implementing the LLM invocation function\n",
    "* Establishing the graph workflow"
   ]
  },
  {
   "cell_type": "code",
   "execution_count": null,
   "metadata": {},
   "outputs": [
    {
     "name": "stderr",
     "output_type": "stream",
     "text": [
      "Key 'title' is not supported in schema, ignoring\n",
      "Key 'title' is not supported in schema, ignoring\n",
      "Key 'title' is not supported in schema, ignoring\n"
     ]
    }
   ],
   "source": [
    "# Import modules required for defining tool nodes\n",
    "from langgraph.prebuilt import ToolNode\n",
    "\n",
    "# List of tools\n",
    "tools = [search_tool, get_weather, itinerary_builder]\n",
    "\n",
    "# Pass the tools to the ToolNode()\n",
    "tool_node = ToolNode(tools)\n",
    "\n",
    "# Bind tools to the LLM\n",
    "model_with_tools = llm.bind_tools(tools)"
   ]
  },
  {
   "cell_type": "code",
   "execution_count": null,
   "metadata": {},
   "outputs": [],
   "source": [
    "from langgraph.graph import MessagesState, START, END\n",
    "\n",
    "# Use MessagesState to define the state of the function\n",
    "def should_continue(state: MessagesState):\n",
    "    \n",
    "    # Get the last message from the state\n",
    "    last_message = state[\"messages\"][-1]\n",
    "    \n",
    "    # Check if the last message includes tool calls\n",
    "    if last_message.tool_calls:\n",
    "        return \"tools\"\n",
    "    \n",
    "    # End the conversation if no tool calls are present\n",
    "    return END"
   ]
  },
  {
   "cell_type": "code",
   "execution_count": null,
   "metadata": {},
   "outputs": [],
   "source": [
    "from langchain_core.messages import AIMessage, HumanMessage, SystemMessage\n",
    "\n",
    "def call_model(state: MessagesState):\n",
    "    messages = state[\"messages\"]\n",
    "\n",
    "    system_prompt = \"\"\"\n",
    "You are an expert travel planner assistant. Your goal is to help users plan their perfect trip.\n",
    "\n",
    "Follow these steps when planning a trip:\n",
    "1. Use the search tool to find flight options based on the user's origin, destination, and dates\n",
    "2. Use the search tool to find accommodation options that match the user's preferences and budget\n",
    "3. Use the weather tool to get weather information for the destination during the planned dates\n",
    "4. Use the search tool to find activities and attractions at the destination.\n",
    "5. Use the itinerary_builder tool to create a comprehensive travel plan\n",
    "\n",
    "Remember the user's preferences and budget constraints throughout the conversation.\n",
    "Avoid redundant searches and refine your queries based on previous search results.\n",
    "\n",
    "Always provide thoughtful, personalized recommendations based on the information you gather.\n",
    "\n",
    "When providing weather information:\n",
    "\n",
    "*   Include the average temperature, any expected precipitation (rain, snow), humidity, and wind speed.\n",
    "*   Provide a short, natural-language assessment of the weather conditions. For example:\n",
    "    *   \"The weather in Orlando in April is typically around 20°C with overcast clouds. This is generally pleasant weather for outdoor activities. However, there's a small chance of rain, so it's a good idea to pack an umbrella or raincoat.\"\n",
    "    *   \"The weather in Paris in October is cool, with average temperatures around 12°C. Expect some rain, so be sure to bring waterproof clothing and an umbrella. The fall colors should be beautiful, though!\"\n",
    "    *   \"Tokyo in March can be chilly, with temperatures averaging 8°C. Pack layers and a light jacket. The cherry blossoms may start to bloom towards the end of the month, which would be a beautiful sight!\"\n",
    "\n",
    "When providing activity recommendations:\n",
    "* Give a description of the activity\n",
    "* Reasoning for why this activity would be good for user\n",
    "\"\"\"\n",
    "\n",
    "    # Add system prompt to the beginning of the messages if it's not already present\n",
    "    if not messages or not isinstance(messages[0], SystemMessage):\n",
    "        messages_with_system = [SystemMessage(system_prompt)] + messages\n",
    "    else:\n",
    "        messages_with_system = messages\n",
    "\n",
    "    last_message = messages[-1]\n",
    "\n",
    "    if isinstance(last_message, AIMessage) and last_message.tool_calls:\n",
    "        return {\"messages\": [AIMessage(content=last_message.tool_calls[0][\"response\"])]}\n",
    "\n",
    "    return {\"messages\": [model_with_tools.invoke(messages_with_system)]}"
   ]
  },
  {
   "cell_type": "code",
   "execution_count": null,
   "metadata": {},
   "outputs": [
    {
     "data": {
      "image/png": "[encoded data removed]",
      "text/plain": [
       "<IPython.core.display.Image object>"
      ]
     },
     "metadata": {},
     "output_type": "display_data"
    }
   ],
   "source": [
    "from langgraph.graph import StateGraph\n",
    "from langgraph.checkpoint.memory import MemorySaver\n",
    "from IPython.display import Image, display\n",
    "\n",
    "workflow = StateGraph(MessagesState)\n",
    "\n",
    "# Add nodes for chatbot and tools\n",
    "workflow.add_node(\"chatbot\", call_model)\n",
    "workflow.add_node(\"tools\", tool_node)\n",
    "\n",
    "# Define an edge connecting START to the chatbot\n",
    "workflow.add_edge(START, \"chatbot\")\n",
    "\n",
    "# Define conditional edges and route \"tools\" back to \"chatbot\"\n",
    "workflow.add_conditional_edges(\"chatbot\", should_continue, [\"tools\", END])\n",
    "workflow.add_edge(\"tools\", \"chatbot\")\n",
    "\n",
    "# Set up memory and compile the workflow\n",
    "memory = MemorySaver()\n",
    "app = workflow.compile(checkpointer=memory)\n",
    "\n",
    "display(Image(app.get_graph().draw_mermaid_png()))"
   ]
  },
  {
   "cell_type": "code",
   "execution_count": null,
   "metadata": {},
   "outputs": [],
   "source": [
    "from langchain_core.messages import AIMessage, HumanMessage\n",
    "\n",
    "config = {\"configurable\": {\"thread_id\": \"1\"}}\n",
    "\n",
    "# Define the user agent function to stream through messages\n",
    "\n",
    "def travel_agent(query):\n",
    "    inputs = {\"messages\": [HumanMessage(content=query)]}\n",
    "    \n",
    "    # Stream messages and metadata from the chatbot application\n",
    "    for msg, metadata in app.stream(inputs, config, stream_mode=\"messages\"):\n",
    "        \n",
    "        # Check if the message has content and is not from a human\n",
    "        if msg.content and not isinstance(msg, HumanMessage):\n",
    "            print(msg.content, end=\"\", flush=True)    \n",
    "    print(\"\\n\")"
   ]
  },
  {
   "cell_type": "markdown",
   "metadata": {},
   "source": [
    "### Testing the Agent\n",
    "Finally, we'll test our agent with a sample travel planning request:"
   ]
  },
  {
   "cell_type": "code",
   "execution_count": null,
   "metadata": {},
   "outputs": [
    {
     "name": "stdout",
     "output_type": "stream",
     "text": [
      "Okay, I can help you plan your family trip to Disney World! Let's start by gathering some essential information.\n",
      "\n",
      "1.  **Flights:** I'll search for round-trip flights to Orlando for two adults and two children, arriving on April 15th and departing 7 days later.\n",
      "2.  **Accommodation:** I'll look for family-friendly hotels in or near Disney World that can accommodate four people, keeping your budget in mind.\n",
      "3.  **Weather:** I'll check the weather forecast for Orlando during your travel dates to help you pack accordingly.\n",
      "4.  **Activities:** I'll research age-appropriate activities and attractions within Disney World that your 5 and 8-year-olds will enjoy.\n",
      "5.  **Itinerary:** Finally, I'll create a detailed itinerary, including flights, accommodation, activities, and weather information, all while staying within your $5000 budget.\n",
      "\n",
      "Let's start with the flights. Could you please provide your origin city so I can search for flights?\n",
      "\n"
     ]
    }
   ],
   "source": [
    "# Test the travel planning agent\n",
    "test_queries = [\n",
    "    \"I'm planning a family trip to Disney World in Orlando for 7 days in April 15. We have two kids ages 5 and 8. Our budget is $5000 total.\",\n",
    "    \n",
    "    \"I want to take a romantic weekend getaway to Paris in April. Looking for luxury hotels and fine dining recommendations. Budget is not a concern.\",\n",
    "    \n",
    "    \"I need to plan a business trip to Tokyo for 5 days in March. I'll need hotel recommendations near the financial district and information about transportation from the airport.\",    \n",
    "]\n",
    "\n",
    "# Run the test queries\n",
    "travel_agent(test_queries[0])\n"
   ]
  },
  {
   "cell_type": "code",
   "execution_count": null,
   "metadata": {},
   "outputs": [
    {
     "name": "stdout",
     "output_type": "stream",
     "text": [
      "[{\"url\": \"https://www.google.com/travel/flights/flights-from-minneapolis-to-orlando.html\", \"content\": \"... Saint Paul International ... Orlando starts at $122 from Sun, Apr 6 to Tue, Apr 15. The cheapest one-way flight starts at $50 and departs on Tue, Apr 8.\"}, {\"url\": \"https://www.expedia.com/lp/flights/msp/mco/minneapolis-to-orlando\", \"content\": \"Cheap Flights from Minneapolis (MSP) to Orlando (MCO) start at $59 for one-way and $117 for round trip. Earn your airline miles on top of our rewards!\"}, {\"url\": \"https://www.kayak.com/flight-routes/Minneapolis-St-Paul-MSP/Orlando-ORL\", \"content\": \"Find flights to Orlando from $48. Fly from Minneapolis on Spirit Airlines, Frontier, Sun Country Air and more. Search for Orlando flights on KAYAK now to\"}, {\"url\": \"https://www.travelocity.com/lp/flights/msp/mco/minneapolis-st-paul-intl-to-orlando-intl\", \"content\": \"Search for cheap flights deals from MSP to MCO (Minneapolis - St. Paul Intl. to Orlando Intl.). We offer cheap direct, non-stop flights including one way\"}, {\"url\": \"https://suncountry.com/flights/en/flights-from-minneapolis-st-paul-to-orlando\", \"content\": \"*Price is per traveler. Fares displayed have been collected within the last 48hrs and may no longer be available at time of booking.\"}]Okay, I've searched for flights from Saint Paul (MSP) to Orlando (MCO) arriving on April 15th and departing on April 22nd. According to the search results, round-trip flights can be found for as low as $117 - $122. However, these prices can change rapidly, and may no longer be available.\n",
      "\n",
      "To get a more accurate estimate, I recommend checking directly with airlines like Spirit, Frontier, and Sun Country, or using online travel agencies like Expedia, Kayak, or Travelocity.\n",
      "\n",
      "For planning purposes, let's estimate the flight cost at $600 for the entire family. This leaves us with $4400 for accommodation, activities, and food.\n",
      "\n",
      "Now, let's move on to finding suitable accommodation. I'll search for hotels near Disney World that offer family-friendly amenities and fit within your remaining budget.[{\"url\": \"https://disneywithtoddlers.com/top-6-family-friendly-hotels-near-walt-disney-world/\", \"content\": \"1. The Grove Resort & Water Park Orlando · 2. Holiday Inn Resort Orlando Suites – Waterpark, an IHG Hotel · 3. Margaritaville Resort Orlando · 4. Sheraton Vistana\"}, {\"url\": \"https://www.tripadvisor.com/ShowTopic-g34515-i19-k2444951-Family_rooms_for_under_200_per_night_recommendations-Orlando_Florida.html\", \"content\": \"Family rooms for under $200 per night- recommendations ; Hilton Vacation Club Cypress Pointe Orlando. 1,676 reviews ; SpringHill Suites Orlando\"}, {\"url\": \"https://www.kayak.com/Orlando-Hotels_Family.Hff.9900.hotel.ksp\", \"content\": \"Search and compare hundreds of travel sites at once for family friendly hotels in Orlando, Florida. Booking.com. Hotels.com. Expedia. Priceline. Agoda. Hilton.\"}, {\"url\": \"https://www.tripadvisor.com/HotelsList-Orlando-Cheap-Hotels-zfp10315.html\", \"content\": \"\\\"Nestled in the heart of the Disney Springs precinct the brand new Drury Plaza Hotel offers families and budget minded travellers a\"}, {\"url\": \"https://www.travelocity.com/Lake-Buena-Vista-Hotels-Family-Hotel.0-0-d10870-tFamilyHotel.Travel-Guide-Filter-Hotels\", \"content\": \"Top Lake Buena Vista Family-Friendly Hotels ; Walt Disney World Dolphin · 1500 Epcot Resort Blvd, Lake Buena Vista, FL · The price is $319 per night. $319.\"}]Based on the search results, flights from Saint Paul to Orlando in April range from $120 to $200. For hotels, some family-friendly options near Disney World under $200/night include The Grove Resort & Water Park, Holiday Inn Resort Orlando Suites – Waterpark, and SpringHill Suites Orlando.\n",
      "\n",
      "Now, let's check the weather in Orlando during your trip.In Orlando, Florida, the current weather is as follows:\n",
      "Detailed status: scattered clouds\n",
      "Wind speed: 8.23 m/s, direction: 280°\n",
      "Humidity: 78%\n",
      "Temperature: \n",
      "  - Current: 17.81°C\n",
      "  - High: 18.39°C\n",
      "  - Low: 16.65°C\n",
      "  - Feels like: 17.68°C\n",
      "Rain: {}\n",
      "Heat index: None\n",
      "Cloud cover: 40%Okay, I've gathered some initial information for your trip to Disney World:\n",
      "\n",
      "**Flights:** The search results show flights from Saint Paul to Orlando in April ranging from $117 to $122. I'll keep an eye on flight prices and try to find the best deals closer to your travel dates.\n",
      "**Accommodation:** I found a few family-friendly hotels near Disney World that may fit your budget of under $200 per night, such as The Grove Resort & Water Park Orlando and Holiday Inn Resort Orlando Suites – Waterpark. I recommend looking into Hilton Vacation Club Cypress Pointe Orlando and SpringHill Suites Orlando.\n",
      "**Weather:** The current weather in Orlando is around 18°C with scattered clouds and a wind speed of 8.23 m/s. The humidity is 78%.\n",
      "\n",
      "Next, let's look into activities and attractions in Disney World that would be suitable for your 5 and 8-year-old children. I'll focus on age-appropriate rides, shows, and experiences. After that, I can create a preliminary itinerary for your trip.[{\"url\": \"https://www.magicaltravel.com/must-rides-walt-disney-world-according-five-year-old/\", \"content\": \"Under the Sea- Journey of the Little Mermaid · Peter Pan's Flight · Dumbo the Flying Elephant · The Barnstormer · Seven Dwarfs Mine Train · Haunted\"}, {\"url\": \"https://allears.net/2022/12/05/the-best-disney-world-itinerary-for-a-5-year-old/\", \"content\": \"Guardians of the Galaxy, Soarin' Around the World, Mission: Space, and Test Track all provide some decent thrills and have height requirements,\"}, {\"url\": \"https://www.reddit.com/r/DisneyWorld/comments/1dvrv0w/hi_i_have_a_5_and_6_year_old_i_want_to_take_them/\", \"content\": \"Magic Kingdom is the most magical at that age but Animal Kingdom is perfect for kids, especially the train ride and petting zoo in Rafiki's\"}, {\"url\": \"https://luxerecess.com/best-magic-kingdom-rides-by-age/\", \"content\": \"Best Rides to Plan at Magic Kingdom ; Peter Pan; Winnie the Pooh; Buzz Lightyear ; Seven Dwarfs Mine Train; Space Mountain; Splash Mountain ; Peter\"}, {\"url\": \"https://disneyworld.disney.go.com/preschool/\", \"content\": \"A Disney Springs Outing · World of Disney · The LEGO Store · Super Hero Headquarters · Star Wars Galactic Outpost · T-REX · Rainforest Cafe at Disney Springs\"}]Okay, I've gathered some information to start planning your Disney World trip:**Flights:** Flights from Saint Paul to Orlando in April are generally in the $120 - $200 range.\n",
      "**Accommodation:** Family-friendly hotels near Disney World under $200/night include The Grove Resort & Water Park Orlando and Holiday Inn Resort Orlando Suites – Waterpark.\n",
      "**Weather:** The weather in Orlando in April is typically around 18°C with scattered clouds. Humidity is around 78%. It should be pleasant for outdoor activities.\n",
      "**Activities:** Good Disney World attractions for a 5 and 8-year-old include:\n",
      "\n",
      "*   Magic Kingdom: Peter Pan's Flight, Dumbo the Flying Elephant, Seven Dwarfs Mine Train\n",
      "*   Animal Kingdom: Train ride and petting zoo in Rafiki's Planet Watch\n",
      "\n",
      "Now, let's put this information into an itinerary. I'll make some assumptions to create a draft, and we can refine it together.\n",
      "\n",
      "**Assumptions:**\n",
      "\n",
      "*   **Flights:** I'll budget $800 for round-trip flights for the family (This is an estimate, and actual prices may vary).\n",
      "*   **Accommodation:** I'll book 7 nights at a hotel at $180/night, totaling $1260.\n",
      "*   **Park Tickets:** I'll estimate park tickets for 4 people for 7 days to be around $2000.\n",
      "*   **Food/Spending:** This leaves us with approximately $940 for food, souvenirs, and transportation.\n",
      "\n",
      "I will use these assumptions to build the itinerary. Do you agree with these assumptions? If not, please provide me with alternative values.\n",
      "\n"
     ]
    }
   ],
   "source": [
    "travel_agent(\"I'll be flying from Saint Paul.\")"
   ]
  },
  {
   "cell_type": "code",
   "execution_count": null,
   "metadata": {},
   "outputs": [
    {
     "name": "stdout",
     "output_type": "stream",
     "text": [
      "Okay, I will search for dog friendly hotels.[{\"url\": \"https://www.booking.com/pets/region/us/disneyorlando.html\", \"content\": \"9,903 pet-friendly hotels ; Hyatt House Orlando Airport · From $143 per night · 1,094 reviews ; Drury Plaza Hotel Orlando - Disney Springs Area · From $144.49 per\"}, {\"url\": \"https://www.tripadvisor.com/HotelsList-Orlando-Pets-Allowed-Cheap-Hotels-zfp13535287.html\", \"content\": \"1. Drury Plaza Hotel Orlando - Disney Springs Area.\"}, {\"url\": \"https://www.bringfido.com/lodging/city/disney-world-fl-us/\", \"content\": \"Red Roof Inn Orlando South Florida Mall allows 1 pet up to 80 lbs for no additional fee, and 2 pets up to 80 lbs for $15 per night (not to exceed $105 per stay\"}, {\"url\": \"https://www.visitorlando.com/blog/post/pet-friendly-hotels-orlando/\", \"content\": \"Two canine pets per room with a combined total weight of 40 pounds or less are welcome at Waldorf Astoria Orlando and Signia by Hilton Orlando\"}, {\"url\": \"https://www.kayak.com/Orlando-Hotels_Pet-Friendly.Hpe.9900.hotel.ksp\", \"content\": \"Search & compare 7590 pet friendly hotels in Orlando. KAYAK searches hundreds of travel sites to help you find and book the pet friendly hotel that suits\"}]Okay, I've updated the hotel search to include dog-friendly options.\n",
      "\n",
      "**Updated Accommodation:**\n",
      "\n",
      "*   **Dog-Friendly Hotels:** Based on my search, some dog-friendly hotels near Disney World under $200/night include:\n",
      "    *   Drury Plaza Hotel Orlando - Disney Springs Area\n",
      "    *   Red Roof Inn Orlando South Florida Mall\n",
      "\n",
      "Since bringing your dog might incur additional fees, I'll adjust the budget slightly. Let's assume an extra $50 per night for pet fees, totaling $350 for the stay. This will reduce the spending money.\n",
      "\n",
      "**Updated Assumptions:**\n",
      "\n",
      "*   **Flights:** $800\n",
      "*   **Accommodation:** $1260 + $350 (pet fees) = $1610\n",
      "*   **Park Tickets:** $2000\n",
      "*   **Food/Spending:** $590\n",
      "\n",
      "Here is the updated itinerary draft\n",
      "\n",
      "**Day 1 (April 15): Arrival & Hotel Check-in**\n",
      "\n",
      "*   Morning: Arrive at Orlando International Airport (MCO) from Saint Paul.\n",
      "*   Afternoon: Check in to Drury Plaza Hotel Orlando - Disney Springs Area.\n",
      "*   Evening: Relax at the hotel, explore the Disney Springs area (dog-friendly).\n",
      "\n",
      "**Day 2: Magic Kingdom**\n",
      "\n",
      "*   Full Day: Spend the day at Magic Kingdom. Focus on attractions suitable for your 5 and 8-year-olds:\n",
      "    *   Peter Pan's Flight\n",
      "    *   Dumbo the Flying Elephant\n",
      "    *   It's a Small World\n",
      "    *   Meet Mickey Mouse at Town Square Theater\n",
      "*   Evening: Fireworks show over Cinderella Castle.\n",
      "\n",
      "**Day 3: Animal Kingdom**\n",
      "\n",
      "*   Full Day: Explore Animal Kingdom.\n",
      "    *   Kilimanjaro Safaris\n",
      "    *   Festival of the Lion King show\n",
      "    *   Train ride and petting zoo at Rafiki's Planet Watch\n",
      "*   Consider the \"Wild Africa Trek\" for an additional cost.\n",
      "\n",
      "**Day 4: Rest & Relaxation / Pool Day**\n",
      "\n",
      "*   Morning: Sleep in, enjoy the hotel amenities.\n",
      "*   Afternoon: Relax by the pool.\n",
      "*   Evening: Dinner at Disney Springs (consider dog-friendly patios).\n",
      "\n",
      "**Day 5: Epcot**\n",
      "\n",
      "*   Full Day: Visit Epcot.\n",
      "    *   Future World: Spaceship Earth, Test Track (if the 8-year-old is tall enough)\n",
      "    *   World Showcase: Explore different countries, sample snacks.\n",
      "*   Evening: Fireworks over the World Showcase Lagoon.\n",
      "\n",
      "**Day 6: Hollywood Studios**\n",
      "\n",
      "*   Full Day: Experience Hollywood Studios.\n",
      "    *   Toy Story Land: Slinky Dog Dash, Alien Swirling Saucers\n",
      "    *   Mickey & Minnie's Runaway Railway\n",
      "*   Evening: Fantasmic! water show.\n",
      "\n",
      "**Day 7 (April 22): Departure**\n",
      "\n",
      "*   Morning: Enjoy a final breakfast in Orlando.\n",
      "*   Check out of the hotel.\n",
      "*   Afternoon: Depart from Orlando International Airport (MCO) to Saint Paul.\n",
      "\n",
      "**Weather:**\n",
      "\n",
      "*   The weather in Orlando in April is typically around 18°C with scattered clouds. Pack light clothing, sunscreen, and a hat. A light jacket or sweater may be useful for the evenings.\n",
      "\n",
      "**Important Notes:**\n",
      "\n",
      "*   **Park Reservations:** Make park reservations well in advance through the Disney World website.\n",
      "*   **Dog-Friendly Planning:** Confirm the hotel's pet policies and any restrictions. Research dog-friendly areas within Disney Springs.\n",
      "*   **Budget:** This itinerary is based on estimated costs. Prices for flights, accommodation, and park tickets can fluctuate.\n",
      "*   **Dining Reservations:** Make dining reservations in advance, especially for popular restaurants.\n",
      "*   **Transportation:** Consider using Disney's transportation system or ride-sharing services to get around.\n",
      "\n",
      "This is a preliminary itinerary. I can refine it further based on your preferences. For example, we can adjust the park days, add specific dining experiences, or explore other attractions in Orlando. What do you think of this plan so far?\n",
      "\n"
     ]
    }
   ],
   "source": [
    "travel_agent(\"I aslo want to bring a dog. The rest seems good.\")"
   ]
  },
  {
   "cell_type": "markdown",
   "metadata": {},
   "source": [
    "## Conclusion\n",
    "\n",
    "In this notebook, we've built a conversational travel planning agent using LangChain that demonstrates several key capabilities:\n",
    "\n",
    "1. **Contextual Understanding**: The agent can maintain context across multiple interactions, allowing users to refine their travel plans incrementally.\n",
    "\n",
    "2. **Flexible Planning**: As shown in our examples, the agent can handle various travel requirements and modifications (like adding a pet to travel plans) while maintaining the core itinerary.\n",
    "\n",
    "3. **Structured Output**: By using tools and structured prompting, our agent produces consistent, well-formatted travel plans that are easy to read and modify.\n",
    "\n",
    "4. **Chain of Thought Reasoning**: The agent demonstrates how LLMs can be guided through a reasoning process to produce better results than simple prompt-response patterns.\n",
    "\n",
    "This implementation showcases how LangChain can be used to create specialized agents that handle domain-specific tasks with a conversational interface. The travel agent could be further enhanced with:\n",
    "\n",
    "- Integration with real travel APIs for live pricing and availability\n",
    "- More specialized tools for different aspects of travel planning (accommodation, transportation, activities)\n",
    "- Improved memory mechanisms to handle longer planning sessions\n",
    "- User preference profiles to personalize recommendations\n",
    "\n",
    "The patterns demonstrated here can be applied to many other domains where conversational AI can assist with complex planning or decision-making processes."
   ]
  }
 ],
 "metadata": {
  "kernelspec": {
   "display_name": "Python 3",
   "language": "python",
   "name": "python3"
  },
  "language_info": {
   "codemirror_mode": {
    "name": "ipython",
    "version": 3
   },
   "file_extension": ".py",
   "mimetype": "text/x-python",
   "name": "python",
   "nbconvert_exporter": "python",
   "pygments_lexer": "ipython3",
   "version": "3.12.7"
  }
 },
 "nbformat": 4,
 "nbformat_minor": 2
}
